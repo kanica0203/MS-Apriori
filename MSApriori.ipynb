{
 "cells": [
  {
   "cell_type": "code",
   "execution_count": 17,
   "metadata": {},
   "outputs": [],
   "source": [
    "import re\n",
    "\n",
    "#global variables \n",
    "ListofTransaction = []\n",
    "sdc = 0.0\n",
    "MIS = {}\n",
    "\n",
    "# Function to read input-data file as list of list\n",
    "def Readinput():\n",
    "    input_file = open(\"input-data.txt\",\"r\")\n",
    "    lines = input_file.readlines()\n",
    "    for line in lines:\n",
    "        ListofTransaction.append(line[1:line.find('}')].replace(' ', '').split(','))\n",
    "    print(ListofTransaction)\n",
    "    input_file.close()\n",
    "    \n"
   ]
  },
  {
   "cell_type": "code",
   "execution_count": 18,
   "metadata": {},
   "outputs": [
    {
     "name": "stdout",
     "output_type": "stream",
     "text": [
      "['{20, 40', '{70, 80}']\n"
     ]
    },
    {
     "data": {
      "text/plain": [
       "([('100', 0.1),\n",
       "  ('140', 0.15),\n",
       "  ('70', 0.2),\n",
       "  ('80', 0.2),\n",
       "  ('90', 0.2),\n",
       "  ('120', 0.2),\n",
       "  ('20', 0.3),\n",
       "  ('30', 0.3),\n",
       "  ('60', 0.3),\n",
       "  ('40', 0.4),\n",
       "  ('50', 0.4),\n",
       "  ('10', 0.43)],\n",
       " 0.1,\n",
       " [['20', '40'], ['70', '80']],\n",
       " ['20', '40', '50'])"
      ]
     },
     "execution_count": 18,
     "metadata": {},
     "output_type": "execute_result"
    }
   ],
   "source": [
    "\n",
    "\n",
    "# Function to read input-parameter file as : MIS into dictionary, cannot_have_together and must_have into list, it also sorts MIS values\n",
    "\n",
    "def paramfile():\n",
    "    param = open(\"parameter-file.txt\", \"r\")\n",
    "    data = [row for row in param]\n",
    "    \n",
    "    cannot_be_together = []\n",
    "    must_have = []\n",
    "    SortedMIS = {}\n",
    "    \n",
    "    for index, d in enumerate(data):\n",
    "        if d[0] == 'M':\n",
    "            match = re.match(r'^.*\\((.*)\\).*= (\\d*\\.\\d*)', d)\n",
    "            MIS[match.group(1)] = float(match.group(2))\n",
    "        elif d[0] == 'S':\n",
    "            sdc = float(re.match(r'.*= (.*)', d).group(1))\n",
    "        elif d[0] == 'm':\n",
    "            must_have = [x.strip() for x in d.split(':')[1].split('or')]\n",
    "        elif d[0] == 'c':\n",
    "            elements = [x.strip() for x in d.split(':')[1].split('}, ')]\n",
    "            print(elements)\n",
    "            for element in elements : \n",
    "                cannot_be_together.append(element[1:].replace('{', '').replace(' ','').replace('}','').split(','))\n",
    "    \n",
    "    SortedMIS = sorted(MIS.items(), key=lambda x: x[1])\n",
    " \n",
    "    return  SortedMIS,sdc,cannot_be_together, must_have\n",
    "\n"
   ]
  },
  {
   "cell_type": "code",
   "execution_count": 14,
   "metadata": {
    "collapsed": true
   },
   "outputs": [],
   "source": [
    "#MS-apriori algorithm\n"
   ]
  }
 ],
 "metadata": {
  "kernelspec": {
   "display_name": "Python 3",
   "language": "python",
   "name": "python3"
  },
  "language_info": {
   "codemirror_mode": {
    "name": "ipython",
    "version": 3
   },
   "file_extension": ".py",
   "mimetype": "text/x-python",
   "name": "python",
   "nbconvert_exporter": "python",
   "pygments_lexer": "ipython3",
   "version": "3.6.3"
  }
 },
 "nbformat": 4,
 "nbformat_minor": 2
}
